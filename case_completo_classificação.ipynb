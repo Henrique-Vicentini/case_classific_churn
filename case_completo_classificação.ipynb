{
  "nbformat": 4,
  "nbformat_minor": 0,
  "metadata": {
    "colab": {
      "provenance": [],
      "authorship_tag": "ABX9TyOgJ8rzNNpc9Cx6i9PZof6u",
      "include_colab_link": true
    },
    "kernelspec": {
      "name": "python3",
      "display_name": "Python 3"
    },
    "language_info": {
      "name": "python"
    }
  },
  "cells": [
    {
      "cell_type": "markdown",
      "metadata": {
        "id": "view-in-github",
        "colab_type": "text"
      },
      "source": [
        "<a href=\"https://colab.research.google.com/github/Henrique-Vicentini/case_classific_churn/blob/main/case_completo_classifica%C3%A7%C3%A3o.ipynb\" target=\"_parent\"><img src=\"https://colab.research.google.com/assets/colab-badge.svg\" alt=\"Open In Colab\"/></a>"
      ]
    },
    {
      "cell_type": "code",
      "execution_count": null,
      "metadata": {
        "id": "k7i4W9tq4mlv"
      },
      "outputs": [],
      "source": [
        "import pandas as pd\n",
        "from sklearn.model_selection import train_test_split\n",
        "from sklearn.preprocessing import LabelEncoder, StandardScaler\n",
        "from sklearn.linear_model import LogisticRegression\n",
        "import seaborn as sns\n",
        "import matplotlib.pyplot as plt\n"
      ]
    },
    {
      "cell_type": "markdown",
      "source": [
        "#Entendimento do negocio\n",
        "-saber se o cliente dará churn ou nao\n",
        "- variáveis numéricas e categóricas\n",
        "- observar os tipos dos dados que temos"
      ],
      "metadata": {
        "id": "lYLuxwkLA9cM"
      }
    },
    {
      "cell_type": "code",
      "source": [
        "df = pd.read_excel('/content/churn_data.xlsx')\n",
        "df.head()"
      ],
      "metadata": {
        "colab": {
          "base_uri": "https://localhost:8080/",
          "height": 386
        },
        "id": "ERQzCnLx5K8V",
        "outputId": "30a72366-e982-481e-e90f-37ac3d5f2ea7"
      },
      "execution_count": null,
      "outputs": [
        {
          "output_type": "execute_result",
          "data": {
            "text/plain": [
              "   customerID  gender  SeniorCitizen Partner Dependents  tenure PhoneService  \\\n",
              "0  7590-VHVEG  Female              0     Yes         No       1           No   \n",
              "1  5575-GNVDE    Male              0      No         No      34          Yes   \n",
              "2  3668-QPYBK    Male              0      No         No       2          Yes   \n",
              "3  7795-CFOCW    Male              0      No         No      45           No   \n",
              "4  9237-HQITU  Female              0      No         No       2          Yes   \n",
              "\n",
              "      MultipleLines InternetService OnlineSecurity  ... DeviceProtection  \\\n",
              "0  No phone service             DSL             No  ...               No   \n",
              "1                No             DSL            Yes  ...              Yes   \n",
              "2                No             DSL            Yes  ...               No   \n",
              "3  No phone service             DSL            Yes  ...              Yes   \n",
              "4                No     Fiber optic             No  ...               No   \n",
              "\n",
              "  TechSupport StreamingTV StreamingMovies        Contract PaperlessBilling  \\\n",
              "0          No          No              No  Month-to-month              Yes   \n",
              "1          No          No              No        One year               No   \n",
              "2          No          No              No  Month-to-month              Yes   \n",
              "3         Yes          No              No        One year               No   \n",
              "4          No          No              No  Month-to-month              Yes   \n",
              "\n",
              "               PaymentMethod MonthlyCharges  TotalCharges  Churn  \n",
              "0           Electronic check          29.85         29.85     No  \n",
              "1               Mailed check          56.95       1889.50     No  \n",
              "2               Mailed check          53.85        108.15    Yes  \n",
              "3  Bank transfer (automatic)          42.30       1840.75     No  \n",
              "4           Electronic check          70.70        151.65    Yes  \n",
              "\n",
              "[5 rows x 21 columns]"
            ],
            "text/html": [
              "\n",
              "  <div id=\"df-cd7966eb-92b5-475c-80e8-efd1ccf67c66\">\n",
              "    <div class=\"colab-df-container\">\n",
              "      <div>\n",
              "<style scoped>\n",
              "    .dataframe tbody tr th:only-of-type {\n",
              "        vertical-align: middle;\n",
              "    }\n",
              "\n",
              "    .dataframe tbody tr th {\n",
              "        vertical-align: top;\n",
              "    }\n",
              "\n",
              "    .dataframe thead th {\n",
              "        text-align: right;\n",
              "    }\n",
              "</style>\n",
              "<table border=\"1\" class=\"dataframe\">\n",
              "  <thead>\n",
              "    <tr style=\"text-align: right;\">\n",
              "      <th></th>\n",
              "      <th>customerID</th>\n",
              "      <th>gender</th>\n",
              "      <th>SeniorCitizen</th>\n",
              "      <th>Partner</th>\n",
              "      <th>Dependents</th>\n",
              "      <th>tenure</th>\n",
              "      <th>PhoneService</th>\n",
              "      <th>MultipleLines</th>\n",
              "      <th>InternetService</th>\n",
              "      <th>OnlineSecurity</th>\n",
              "      <th>...</th>\n",
              "      <th>DeviceProtection</th>\n",
              "      <th>TechSupport</th>\n",
              "      <th>StreamingTV</th>\n",
              "      <th>StreamingMovies</th>\n",
              "      <th>Contract</th>\n",
              "      <th>PaperlessBilling</th>\n",
              "      <th>PaymentMethod</th>\n",
              "      <th>MonthlyCharges</th>\n",
              "      <th>TotalCharges</th>\n",
              "      <th>Churn</th>\n",
              "    </tr>\n",
              "  </thead>\n",
              "  <tbody>\n",
              "    <tr>\n",
              "      <th>0</th>\n",
              "      <td>7590-VHVEG</td>\n",
              "      <td>Female</td>\n",
              "      <td>0</td>\n",
              "      <td>Yes</td>\n",
              "      <td>No</td>\n",
              "      <td>1</td>\n",
              "      <td>No</td>\n",
              "      <td>No phone service</td>\n",
              "      <td>DSL</td>\n",
              "      <td>No</td>\n",
              "      <td>...</td>\n",
              "      <td>No</td>\n",
              "      <td>No</td>\n",
              "      <td>No</td>\n",
              "      <td>No</td>\n",
              "      <td>Month-to-month</td>\n",
              "      <td>Yes</td>\n",
              "      <td>Electronic check</td>\n",
              "      <td>29.85</td>\n",
              "      <td>29.85</td>\n",
              "      <td>No</td>\n",
              "    </tr>\n",
              "    <tr>\n",
              "      <th>1</th>\n",
              "      <td>5575-GNVDE</td>\n",
              "      <td>Male</td>\n",
              "      <td>0</td>\n",
              "      <td>No</td>\n",
              "      <td>No</td>\n",
              "      <td>34</td>\n",
              "      <td>Yes</td>\n",
              "      <td>No</td>\n",
              "      <td>DSL</td>\n",
              "      <td>Yes</td>\n",
              "      <td>...</td>\n",
              "      <td>Yes</td>\n",
              "      <td>No</td>\n",
              "      <td>No</td>\n",
              "      <td>No</td>\n",
              "      <td>One year</td>\n",
              "      <td>No</td>\n",
              "      <td>Mailed check</td>\n",
              "      <td>56.95</td>\n",
              "      <td>1889.50</td>\n",
              "      <td>No</td>\n",
              "    </tr>\n",
              "    <tr>\n",
              "      <th>2</th>\n",
              "      <td>3668-QPYBK</td>\n",
              "      <td>Male</td>\n",
              "      <td>0</td>\n",
              "      <td>No</td>\n",
              "      <td>No</td>\n",
              "      <td>2</td>\n",
              "      <td>Yes</td>\n",
              "      <td>No</td>\n",
              "      <td>DSL</td>\n",
              "      <td>Yes</td>\n",
              "      <td>...</td>\n",
              "      <td>No</td>\n",
              "      <td>No</td>\n",
              "      <td>No</td>\n",
              "      <td>No</td>\n",
              "      <td>Month-to-month</td>\n",
              "      <td>Yes</td>\n",
              "      <td>Mailed check</td>\n",
              "      <td>53.85</td>\n",
              "      <td>108.15</td>\n",
              "      <td>Yes</td>\n",
              "    </tr>\n",
              "    <tr>\n",
              "      <th>3</th>\n",
              "      <td>7795-CFOCW</td>\n",
              "      <td>Male</td>\n",
              "      <td>0</td>\n",
              "      <td>No</td>\n",
              "      <td>No</td>\n",
              "      <td>45</td>\n",
              "      <td>No</td>\n",
              "      <td>No phone service</td>\n",
              "      <td>DSL</td>\n",
              "      <td>Yes</td>\n",
              "      <td>...</td>\n",
              "      <td>Yes</td>\n",
              "      <td>Yes</td>\n",
              "      <td>No</td>\n",
              "      <td>No</td>\n",
              "      <td>One year</td>\n",
              "      <td>No</td>\n",
              "      <td>Bank transfer (automatic)</td>\n",
              "      <td>42.30</td>\n",
              "      <td>1840.75</td>\n",
              "      <td>No</td>\n",
              "    </tr>\n",
              "    <tr>\n",
              "      <th>4</th>\n",
              "      <td>9237-HQITU</td>\n",
              "      <td>Female</td>\n",
              "      <td>0</td>\n",
              "      <td>No</td>\n",
              "      <td>No</td>\n",
              "      <td>2</td>\n",
              "      <td>Yes</td>\n",
              "      <td>No</td>\n",
              "      <td>Fiber optic</td>\n",
              "      <td>No</td>\n",
              "      <td>...</td>\n",
              "      <td>No</td>\n",
              "      <td>No</td>\n",
              "      <td>No</td>\n",
              "      <td>No</td>\n",
              "      <td>Month-to-month</td>\n",
              "      <td>Yes</td>\n",
              "      <td>Electronic check</td>\n",
              "      <td>70.70</td>\n",
              "      <td>151.65</td>\n",
              "      <td>Yes</td>\n",
              "    </tr>\n",
              "  </tbody>\n",
              "</table>\n",
              "<p>5 rows × 21 columns</p>\n",
              "</div>\n",
              "      <button class=\"colab-df-convert\" onclick=\"convertToInteractive('df-cd7966eb-92b5-475c-80e8-efd1ccf67c66')\"\n",
              "              title=\"Convert this dataframe to an interactive table.\"\n",
              "              style=\"display:none;\">\n",
              "        \n",
              "  <svg xmlns=\"http://www.w3.org/2000/svg\" height=\"24px\"viewBox=\"0 0 24 24\"\n",
              "       width=\"24px\">\n",
              "    <path d=\"M0 0h24v24H0V0z\" fill=\"none\"/>\n",
              "    <path d=\"M18.56 5.44l.94 2.06.94-2.06 2.06-.94-2.06-.94-.94-2.06-.94 2.06-2.06.94zm-11 1L8.5 8.5l.94-2.06 2.06-.94-2.06-.94L8.5 2.5l-.94 2.06-2.06.94zm10 10l.94 2.06.94-2.06 2.06-.94-2.06-.94-.94-2.06-.94 2.06-2.06.94z\"/><path d=\"M17.41 7.96l-1.37-1.37c-.4-.4-.92-.59-1.43-.59-.52 0-1.04.2-1.43.59L10.3 9.45l-7.72 7.72c-.78.78-.78 2.05 0 2.83L4 21.41c.39.39.9.59 1.41.59.51 0 1.02-.2 1.41-.59l7.78-7.78 2.81-2.81c.8-.78.8-2.07 0-2.86zM5.41 20L4 18.59l7.72-7.72 1.47 1.35L5.41 20z\"/>\n",
              "  </svg>\n",
              "      </button>\n",
              "      \n",
              "  <style>\n",
              "    .colab-df-container {\n",
              "      display:flex;\n",
              "      flex-wrap:wrap;\n",
              "      gap: 12px;\n",
              "    }\n",
              "\n",
              "    .colab-df-convert {\n",
              "      background-color: #E8F0FE;\n",
              "      border: none;\n",
              "      border-radius: 50%;\n",
              "      cursor: pointer;\n",
              "      display: none;\n",
              "      fill: #1967D2;\n",
              "      height: 32px;\n",
              "      padding: 0 0 0 0;\n",
              "      width: 32px;\n",
              "    }\n",
              "\n",
              "    .colab-df-convert:hover {\n",
              "      background-color: #E2EBFA;\n",
              "      box-shadow: 0px 1px 2px rgba(60, 64, 67, 0.3), 0px 1px 3px 1px rgba(60, 64, 67, 0.15);\n",
              "      fill: #174EA6;\n",
              "    }\n",
              "\n",
              "    [theme=dark] .colab-df-convert {\n",
              "      background-color: #3B4455;\n",
              "      fill: #D2E3FC;\n",
              "    }\n",
              "\n",
              "    [theme=dark] .colab-df-convert:hover {\n",
              "      background-color: #434B5C;\n",
              "      box-shadow: 0px 1px 3px 1px rgba(0, 0, 0, 0.15);\n",
              "      filter: drop-shadow(0px 1px 2px rgba(0, 0, 0, 0.3));\n",
              "      fill: #FFFFFF;\n",
              "    }\n",
              "  </style>\n",
              "\n",
              "      <script>\n",
              "        const buttonEl =\n",
              "          document.querySelector('#df-cd7966eb-92b5-475c-80e8-efd1ccf67c66 button.colab-df-convert');\n",
              "        buttonEl.style.display =\n",
              "          google.colab.kernel.accessAllowed ? 'block' : 'none';\n",
              "\n",
              "        async function convertToInteractive(key) {\n",
              "          const element = document.querySelector('#df-cd7966eb-92b5-475c-80e8-efd1ccf67c66');\n",
              "          const dataTable =\n",
              "            await google.colab.kernel.invokeFunction('convertToInteractive',\n",
              "                                                     [key], {});\n",
              "          if (!dataTable) return;\n",
              "\n",
              "          const docLinkHtml = 'Like what you see? Visit the ' +\n",
              "            '<a target=\"_blank\" href=https://colab.research.google.com/notebooks/data_table.ipynb>data table notebook</a>'\n",
              "            + ' to learn more about interactive tables.';\n",
              "          element.innerHTML = '';\n",
              "          dataTable['output_type'] = 'display_data';\n",
              "          await google.colab.output.renderOutput(dataTable, element);\n",
              "          const docLink = document.createElement('div');\n",
              "          docLink.innerHTML = docLinkHtml;\n",
              "          element.appendChild(docLink);\n",
              "        }\n",
              "      </script>\n",
              "    </div>\n",
              "  </div>\n",
              "  "
            ]
          },
          "metadata": {},
          "execution_count": 64
        }
      ]
    },
    {
      "cell_type": "code",
      "source": [
        "#observar o tamanho do dataset\n",
        "df.shape"
      ],
      "metadata": {
        "colab": {
          "base_uri": "https://localhost:8080/"
        },
        "id": "lIIP8lXe5S3D",
        "outputId": "9f39e291-d594-44f2-b4d9-42fdcaa79a4f"
      },
      "execution_count": null,
      "outputs": [
        {
          "output_type": "execute_result",
          "data": {
            "text/plain": [
              "(7032, 21)"
            ]
          },
          "metadata": {},
          "execution_count": 4
        }
      ]
    },
    {
      "cell_type": "code",
      "source": [
        "#ver as variações das variaveis numericas do dataset\n",
        "df.describe()"
      ],
      "metadata": {
        "colab": {
          "base_uri": "https://localhost:8080/",
          "height": 300
        },
        "id": "KBLVmYRh5ll7",
        "outputId": "d057ed7b-8962-46d6-bd03-5e19cf2ac41c"
      },
      "execution_count": null,
      "outputs": [
        {
          "output_type": "execute_result",
          "data": {
            "text/plain": [
              "       SeniorCitizen       tenure  MonthlyCharges  TotalCharges\n",
              "count    7032.000000  7032.000000     7032.000000   7032.000000\n",
              "mean        0.162400    32.421786       64.798208   2283.300441\n",
              "std         0.368844    24.545260       30.085974   2266.771362\n",
              "min         0.000000     1.000000       18.250000     18.800000\n",
              "25%         0.000000     9.000000       35.587500    401.450000\n",
              "50%         0.000000    29.000000       70.350000   1397.475000\n",
              "75%         0.000000    55.000000       89.862500   3794.737500\n",
              "max         1.000000    72.000000      118.750000   8684.800000"
            ],
            "text/html": [
              "\n",
              "  <div id=\"df-29671d80-8d54-40cf-bb3e-dafac2139e0c\">\n",
              "    <div class=\"colab-df-container\">\n",
              "      <div>\n",
              "<style scoped>\n",
              "    .dataframe tbody tr th:only-of-type {\n",
              "        vertical-align: middle;\n",
              "    }\n",
              "\n",
              "    .dataframe tbody tr th {\n",
              "        vertical-align: top;\n",
              "    }\n",
              "\n",
              "    .dataframe thead th {\n",
              "        text-align: right;\n",
              "    }\n",
              "</style>\n",
              "<table border=\"1\" class=\"dataframe\">\n",
              "  <thead>\n",
              "    <tr style=\"text-align: right;\">\n",
              "      <th></th>\n",
              "      <th>SeniorCitizen</th>\n",
              "      <th>tenure</th>\n",
              "      <th>MonthlyCharges</th>\n",
              "      <th>TotalCharges</th>\n",
              "    </tr>\n",
              "  </thead>\n",
              "  <tbody>\n",
              "    <tr>\n",
              "      <th>count</th>\n",
              "      <td>7032.000000</td>\n",
              "      <td>7032.000000</td>\n",
              "      <td>7032.000000</td>\n",
              "      <td>7032.000000</td>\n",
              "    </tr>\n",
              "    <tr>\n",
              "      <th>mean</th>\n",
              "      <td>0.162400</td>\n",
              "      <td>32.421786</td>\n",
              "      <td>64.798208</td>\n",
              "      <td>2283.300441</td>\n",
              "    </tr>\n",
              "    <tr>\n",
              "      <th>std</th>\n",
              "      <td>0.368844</td>\n",
              "      <td>24.545260</td>\n",
              "      <td>30.085974</td>\n",
              "      <td>2266.771362</td>\n",
              "    </tr>\n",
              "    <tr>\n",
              "      <th>min</th>\n",
              "      <td>0.000000</td>\n",
              "      <td>1.000000</td>\n",
              "      <td>18.250000</td>\n",
              "      <td>18.800000</td>\n",
              "    </tr>\n",
              "    <tr>\n",
              "      <th>25%</th>\n",
              "      <td>0.000000</td>\n",
              "      <td>9.000000</td>\n",
              "      <td>35.587500</td>\n",
              "      <td>401.450000</td>\n",
              "    </tr>\n",
              "    <tr>\n",
              "      <th>50%</th>\n",
              "      <td>0.000000</td>\n",
              "      <td>29.000000</td>\n",
              "      <td>70.350000</td>\n",
              "      <td>1397.475000</td>\n",
              "    </tr>\n",
              "    <tr>\n",
              "      <th>75%</th>\n",
              "      <td>0.000000</td>\n",
              "      <td>55.000000</td>\n",
              "      <td>89.862500</td>\n",
              "      <td>3794.737500</td>\n",
              "    </tr>\n",
              "    <tr>\n",
              "      <th>max</th>\n",
              "      <td>1.000000</td>\n",
              "      <td>72.000000</td>\n",
              "      <td>118.750000</td>\n",
              "      <td>8684.800000</td>\n",
              "    </tr>\n",
              "  </tbody>\n",
              "</table>\n",
              "</div>\n",
              "      <button class=\"colab-df-convert\" onclick=\"convertToInteractive('df-29671d80-8d54-40cf-bb3e-dafac2139e0c')\"\n",
              "              title=\"Convert this dataframe to an interactive table.\"\n",
              "              style=\"display:none;\">\n",
              "        \n",
              "  <svg xmlns=\"http://www.w3.org/2000/svg\" height=\"24px\"viewBox=\"0 0 24 24\"\n",
              "       width=\"24px\">\n",
              "    <path d=\"M0 0h24v24H0V0z\" fill=\"none\"/>\n",
              "    <path d=\"M18.56 5.44l.94 2.06.94-2.06 2.06-.94-2.06-.94-.94-2.06-.94 2.06-2.06.94zm-11 1L8.5 8.5l.94-2.06 2.06-.94-2.06-.94L8.5 2.5l-.94 2.06-2.06.94zm10 10l.94 2.06.94-2.06 2.06-.94-2.06-.94-.94-2.06-.94 2.06-2.06.94z\"/><path d=\"M17.41 7.96l-1.37-1.37c-.4-.4-.92-.59-1.43-.59-.52 0-1.04.2-1.43.59L10.3 9.45l-7.72 7.72c-.78.78-.78 2.05 0 2.83L4 21.41c.39.39.9.59 1.41.59.51 0 1.02-.2 1.41-.59l7.78-7.78 2.81-2.81c.8-.78.8-2.07 0-2.86zM5.41 20L4 18.59l7.72-7.72 1.47 1.35L5.41 20z\"/>\n",
              "  </svg>\n",
              "      </button>\n",
              "      \n",
              "  <style>\n",
              "    .colab-df-container {\n",
              "      display:flex;\n",
              "      flex-wrap:wrap;\n",
              "      gap: 12px;\n",
              "    }\n",
              "\n",
              "    .colab-df-convert {\n",
              "      background-color: #E8F0FE;\n",
              "      border: none;\n",
              "      border-radius: 50%;\n",
              "      cursor: pointer;\n",
              "      display: none;\n",
              "      fill: #1967D2;\n",
              "      height: 32px;\n",
              "      padding: 0 0 0 0;\n",
              "      width: 32px;\n",
              "    }\n",
              "\n",
              "    .colab-df-convert:hover {\n",
              "      background-color: #E2EBFA;\n",
              "      box-shadow: 0px 1px 2px rgba(60, 64, 67, 0.3), 0px 1px 3px 1px rgba(60, 64, 67, 0.15);\n",
              "      fill: #174EA6;\n",
              "    }\n",
              "\n",
              "    [theme=dark] .colab-df-convert {\n",
              "      background-color: #3B4455;\n",
              "      fill: #D2E3FC;\n",
              "    }\n",
              "\n",
              "    [theme=dark] .colab-df-convert:hover {\n",
              "      background-color: #434B5C;\n",
              "      box-shadow: 0px 1px 3px 1px rgba(0, 0, 0, 0.15);\n",
              "      filter: drop-shadow(0px 1px 2px rgba(0, 0, 0, 0.3));\n",
              "      fill: #FFFFFF;\n",
              "    }\n",
              "  </style>\n",
              "\n",
              "      <script>\n",
              "        const buttonEl =\n",
              "          document.querySelector('#df-29671d80-8d54-40cf-bb3e-dafac2139e0c button.colab-df-convert');\n",
              "        buttonEl.style.display =\n",
              "          google.colab.kernel.accessAllowed ? 'block' : 'none';\n",
              "\n",
              "        async function convertToInteractive(key) {\n",
              "          const element = document.querySelector('#df-29671d80-8d54-40cf-bb3e-dafac2139e0c');\n",
              "          const dataTable =\n",
              "            await google.colab.kernel.invokeFunction('convertToInteractive',\n",
              "                                                     [key], {});\n",
              "          if (!dataTable) return;\n",
              "\n",
              "          const docLinkHtml = 'Like what you see? Visit the ' +\n",
              "            '<a target=\"_blank\" href=https://colab.research.google.com/notebooks/data_table.ipynb>data table notebook</a>'\n",
              "            + ' to learn more about interactive tables.';\n",
              "          element.innerHTML = '';\n",
              "          dataTable['output_type'] = 'display_data';\n",
              "          await google.colab.output.renderOutput(dataTable, element);\n",
              "          const docLink = document.createElement('div');\n",
              "          docLink.innerHTML = docLinkHtml;\n",
              "          element.appendChild(docLink);\n",
              "        }\n",
              "      </script>\n",
              "    </div>\n",
              "  </div>\n",
              "  "
            ]
          },
          "metadata": {},
          "execution_count": 6
        }
      ]
    },
    {
      "cell_type": "code",
      "source": [
        "#ver se há valores faltantes e os tipos de variaveis\n",
        "df.info()"
      ],
      "metadata": {
        "colab": {
          "base_uri": "https://localhost:8080/"
        },
        "id": "KbpqUxFl5Vwc",
        "outputId": "68e2b96d-10c7-41c9-b42f-80e3a2754bc4"
      },
      "execution_count": null,
      "outputs": [
        {
          "output_type": "stream",
          "name": "stdout",
          "text": [
            "<class 'pandas.core.frame.DataFrame'>\n",
            "RangeIndex: 7032 entries, 0 to 7031\n",
            "Data columns (total 20 columns):\n",
            " #   Column            Non-Null Count  Dtype  \n",
            "---  ------            --------------  -----  \n",
            " 0   gender            7032 non-null   int64  \n",
            " 1   SeniorCitizen     7032 non-null   int64  \n",
            " 2   Partner           7032 non-null   int64  \n",
            " 3   Dependents        7032 non-null   int64  \n",
            " 4   tenure            7032 non-null   int64  \n",
            " 5   PhoneService      7032 non-null   int64  \n",
            " 6   MultipleLines     7032 non-null   int64  \n",
            " 7   InternetService   7032 non-null   int64  \n",
            " 8   OnlineSecurity    7032 non-null   int64  \n",
            " 9   OnlineBackup      7032 non-null   int64  \n",
            " 10  DeviceProtection  7032 non-null   int64  \n",
            " 11  TechSupport       7032 non-null   int64  \n",
            " 12  StreamingTV       7032 non-null   int64  \n",
            " 13  StreamingMovies   7032 non-null   int64  \n",
            " 14  Contract          7032 non-null   int64  \n",
            " 15  PaperlessBilling  7032 non-null   int64  \n",
            " 16  PaymentMethod     7032 non-null   int64  \n",
            " 17  MonthlyCharges    7032 non-null   float64\n",
            " 18  TotalCharges      7032 non-null   float64\n",
            " 19  Churn             7032 non-null   int64  \n",
            "dtypes: float64(2), int64(18)\n",
            "memory usage: 1.1 MB\n"
          ]
        }
      ]
    },
    {
      "cell_type": "code",
      "source": [
        "df.Churn.value_counts()"
      ],
      "metadata": {
        "colab": {
          "base_uri": "https://localhost:8080/"
        },
        "id": "dc_rf0iEBcLg",
        "outputId": "6b921c7a-fb53-4e6c-abe9-b57f99042999"
      },
      "execution_count": null,
      "outputs": [
        {
          "output_type": "execute_result",
          "data": {
            "text/plain": [
              "No     5163\n",
              "Yes    1869\n",
              "Name: Churn, dtype: int64"
            ]
          },
          "metadata": {},
          "execution_count": 65
        }
      ]
    },
    {
      "cell_type": "code",
      "source": [
        "sns.histplot(data = df, x = 'Churn')"
      ],
      "metadata": {
        "colab": {
          "base_uri": "https://localhost:8080/",
          "height": 296
        },
        "id": "oxS57hNHBjdG",
        "outputId": "408d4ee8-dd3f-4839-f793-96d3ea3df7c6"
      },
      "execution_count": null,
      "outputs": [
        {
          "output_type": "execute_result",
          "data": {
            "text/plain": [
              "<matplotlib.axes._subplots.AxesSubplot at 0x7f3c967ff7c0>"
            ]
          },
          "metadata": {},
          "execution_count": 66
        },
        {
          "output_type": "display_data",
          "data": {
            "text/plain": [
              "<Figure size 432x288 with 1 Axes>"
            ],
            "image/png": "[encoded data removed]"
          },
          "metadata": {
            "needs_background": "light"
          }
        }
      ]
    },
    {
      "cell_type": "code",
      "source": [
        "plt.figure(figsize = (20,8))\n",
        "sns.histplot(data = df, x = 'PaymentMethod')"
      ],
      "metadata": {
        "colab": {
          "base_uri": "https://localhost:8080/",
          "height": 514
        },
        "id": "H0QSUc2vBygJ",
        "outputId": "a54a157b-fffc-4131-e737-779c96fc7b20"
      },
      "execution_count": null,
      "outputs": [
        {
          "output_type": "execute_result",
          "data": {
            "text/plain": [
              "<matplotlib.axes._subplots.AxesSubplot at 0x7f3c93470820>"
            ]
          },
          "metadata": {},
          "execution_count": 72
        },
        {
          "output_type": "display_data",
          "data": {
            "text/plain": [
              "<Figure size 1440x576 with 1 Axes>"
            ],
            "image/png": "[encoded data removed]"
          },
          "metadata": {
            "needs_background": "light"
          }
        }
      ]
    },
    {
      "cell_type": "markdown",
      "source": [
        "#Tratamento de Dados"
      ],
      "metadata": {
        "id": "AlGzp9XsPQya"
      }
    },
    {
      "cell_type": "code",
      "source": [
        "#dropar id\n",
        "df.drop(columns = ['customerID'], inplace = True)"
      ],
      "metadata": {
        "id": "tG5bUUAZ6QGb"
      },
      "execution_count": null,
      "outputs": []
    },
    {
      "cell_type": "code",
      "source": [
        "#transformar as variaveis categoricas\n",
        "le = LabelEncoder()\n",
        "\n",
        "#gender\n",
        "le.fit(df.gender)\n",
        "\n",
        "df.gender = le.transform(df.gender)\n",
        "\n",
        "#SeniorCitizen\n",
        "\n",
        "le.fit(df.SeniorCitizen)\n",
        "\n",
        "df.SeniorCitizen = le.transform(df.SeniorCitizen)\n",
        "\n",
        "#Partner\n",
        "le.fit(df.Partner)\n",
        "\n",
        "df.Partner = le.transform(df.Partner)\n",
        "\n",
        "#Dependents\n",
        "le.fit(df.Dependents)\n",
        "\n",
        "df.Dependents = le.transform(df.Dependents)\n",
        "\n",
        "#PhoneService\n",
        "le.fit(df.PhoneService)\n",
        "\n",
        "df.PhoneService = le.transform(df.PhoneService)\n",
        "\n",
        "#MultipleLines\n",
        "le.fit(df.MultipleLines)\n",
        "\n",
        "df.MultipleLines = le.transform(df.MultipleLines)\n",
        "\n",
        "#InternetService\n",
        "le.fit(df.InternetService)\n",
        "\n",
        "df.InternetService = le.transform(df.InternetService)\n",
        "\n",
        "#OnlineSecurity\n",
        "le.fit(df.OnlineSecurity)\n",
        "df.OnlineSecurity = le.transform(df.OnlineSecurity)\n",
        "\n",
        "#OnlineBackup\n",
        "\n",
        "le.fit(df.OnlineBackup)\n",
        "df.OnlineBackup = le.transform(df.OnlineBackup)\n",
        "\n",
        "#DeviceProtection\n",
        "le.fit(df.DeviceProtection)\n",
        "\n",
        "df.DeviceProtection = le.transform(df.DeviceProtection)\n",
        "\n",
        "#TechSupport\n",
        "le.fit(df.TechSupport)\n",
        "\n",
        "df.TechSupport = le.transform(df.TechSupport)\n",
        "\n",
        "#StreamingTV\n",
        "le.fit(df.StreamingTV)\n",
        "\n",
        "df.StreamingTV = le.transform(df.StreamingTV)\n",
        "\n",
        "#StreamingMovies\n",
        "le.fit(df.StreamingMovies)\n",
        "\n",
        "df.StreamingMovies = le.transform(df.StreamingMovies)\n",
        "\n",
        "#Contract\n",
        "le.fit(df.Contract)\n",
        "\n",
        "df.Contract = le.transform(df.Contract)\n",
        "\n",
        "#PaperlessBilling\n",
        "le.fit(df.PaperlessBilling)\n",
        "\n",
        "df.PaperlessBilling = le.transform(df.PaperlessBilling)\n",
        "\n",
        "#PaymentMethod\n",
        "le.fit(df.PaymentMethod)\n",
        "\n",
        "df.PaymentMethod = le.transform(df.PaymentMethod)\n",
        "\n",
        "#Churn\n",
        "le.fit(df.Churn)\n",
        "\n",
        "df.Churn = le.transform(df.Churn)"
      ],
      "metadata": {
        "id": "3LKPp-Ar6BoW"
      },
      "execution_count": null,
      "outputs": []
    },
    {
      "cell_type": "code",
      "source": [
        "#separar variáveis\n",
        "\n",
        "x = df.drop(columns = ['Churn'])\n",
        "y = df['Churn']"
      ],
      "metadata": {
        "id": "IjxJ_5iP88ry"
      },
      "execution_count": null,
      "outputs": []
    },
    {
      "cell_type": "code",
      "source": [
        "#separar massa para treino e test\n",
        "x_train, x_test, y_train, y_test = train_test_split(x,y, test_size = 0.2, random_state= 123)"
      ],
      "metadata": {
        "id": "XYWaMO6Y8ydf"
      },
      "execution_count": null,
      "outputs": []
    },
    {
      "cell_type": "code",
      "source": [
        "#normalizar a base inteira\n",
        "\n",
        "sc = StandardScaler()\n",
        "\n",
        "sc.fit(df)\n",
        "\n",
        "x_train = pd.DataFrame(sc.fit_transform(x_train), index = x_train.index, columns = x_train.columns)"
      ],
      "metadata": {
        "id": "OipkX4wZ73b7"
      },
      "execution_count": null,
      "outputs": []
    },
    {
      "cell_type": "code",
      "source": [
        "x_test = pd.DataFrame(sc.transform(x_test), index = x_test.index, columns = x_test.columns)"
      ],
      "metadata": {
        "id": "S97bQKQxDofX"
      },
      "execution_count": null,
      "outputs": []
    },
    {
      "cell_type": "code",
      "source": [
        "x_test.shape"
      ],
      "metadata": {
        "colab": {
          "base_uri": "https://localhost:8080/"
        },
        "id": "lWGkOPgi-sXu",
        "outputId": "cf2dfa31-d9d4-4909-f13f-71ae24c4f50f"
      },
      "execution_count": null,
      "outputs": [
        {
          "output_type": "execute_result",
          "data": {
            "text/plain": [
              "(1407, 19)"
            ]
          },
          "metadata": {},
          "execution_count": 58
        }
      ]
    },
    {
      "cell_type": "markdown",
      "source": [
        "# Modeling"
      ],
      "metadata": {
        "id": "Xu2vSeUjPhlJ"
      }
    },
    {
      "cell_type": "code",
      "source": [
        "#fazer o modelo\n",
        "from sklearn.linear_model import LogisticRegression\n",
        "\n",
        "model = LogisticRegression()\n",
        "lr = model.fit(x_train, y_train)\n",
        "\n",
        "#predizer o modelo\n",
        "predict = model.predict(x_test)\n",
        "\n",
        "#criar uma coluna para ver se o modelo esta bom e comprar\n",
        "#x_test['predicao'] = predict\n",
        "#x_test['real'] = y_test\n",
        "\n",
        "#x_test"
      ],
      "metadata": {
        "id": "0r2MlQhG9Evt"
      },
      "execution_count": null,
      "outputs": []
    },
    {
      "cell_type": "code",
      "source": [
        "#observar atraves da métricas\n",
        "from sklearn.metrics import plot_confusion_matrix\n",
        "\n",
        "plot_confusion_matrix(model.fit(x_train,y_train), x_test, y_test, values_format='d');"
      ],
      "metadata": {
        "colab": {
          "base_uri": "https://localhost:8080/",
          "height": 334
        },
        "id": "Uc7289fU_GX9",
        "outputId": "cf0aa874-b519-4b52-b8a0-8da12f0584a4"
      },
      "execution_count": null,
      "outputs": [
        {
          "output_type": "stream",
          "name": "stderr",
          "text": [
            "/usr/local/lib/python3.8/dist-packages/sklearn/utils/deprecation.py:87: FutureWarning: Function plot_confusion_matrix is deprecated; Function `plot_confusion_matrix` is deprecated in 1.0 and will be removed in 1.2. Use one of the class methods: ConfusionMatrixDisplay.from_predictions or ConfusionMatrixDisplay.from_estimator.\n",
            "  warnings.warn(msg, category=FutureWarning)\n"
          ]
        },
        {
          "output_type": "display_data",
          "data": {
            "text/plain": [
              "<Figure size 432x288 with 2 Axes>"
            ],
            "image/png": "[encoded data removed]"
          },
          "metadata": {
            "needs_background": "light"
          }
        }
      ]
    },
    {
      "cell_type": "code",
      "source": [
        "from sklearn.metrics import accuracy_score, balanced_accuracy_score, precision_score, recall_score, f1_score, roc_auc_score\n",
        "\n",
        "print(f\"Acurácia (Treino): {accuracy_score(y_train, lr.predict(x_train))}\")\n",
        "print(f\"Acurácia (Teste): {accuracy_score(y_test, lr.predict(x_test))}\")\n",
        "print(\"====================================\")\n",
        "print(f\"Acurácia Balanceada (Treino): {balanced_accuracy_score(y_train, lr.predict(x_train))}\")\n",
        "print(f\"Acurácia Balanceada (Teste): {balanced_accuracy_score(y_test, lr.predict(x_test))}\")\n",
        "print(\"====================================\")\n",
        "print(f\"Precision (Treino): {precision_score(y_train, lr.predict(x_train))}\")\n",
        "print(f\"Precision (Teste): {precision_score(y_test, lr.predict(x_test))}\")\n",
        "print(\"====================================\")\n",
        "print(f\"Recall (Treino): {recall_score(y_train, lr.predict(x_train))}\")\n",
        "print(f\"Recall (Teste): {recall_score(y_test, lr.predict(x_test))}\")\n",
        "print(\"====================================\")\n",
        "print(f\"F1-Score (Treino): {f1_score(y_train, lr.predict(x_train))}\")\n",
        "print(f\"F1-Score (Teste): {f1_score(y_test, lr.predict(x_test))}\")\n",
        "print(\"====================================\")\n",
        "print(f\"ROCAUC (Treino): {roc_auc_score(y_train, lr.predict_proba(x_train)[:,1])}\")\n",
        "print(f\"ROCAUC (Teste): {roc_auc_score(y_test, lr.predict_proba(x_test)[:,1])}\")"
      ],
      "metadata": {
        "colab": {
          "base_uri": "https://localhost:8080/"
        },
        "id": "eX0q-BDO_dav",
        "outputId": "dd145eb5-746c-4210-cff3-9f4d2105407c"
      },
      "execution_count": null,
      "outputs": [
        {
          "output_type": "stream",
          "name": "stdout",
          "text": [
            "Acurácia (Treino): 0.8039111111111111\n",
            "Acurácia (Teste): 0.8088130774697939\n",
            "====================================\n",
            "Acurácia Balanceada (Treino): 0.7151561208436659\n",
            "Acurácia Balanceada (Teste): 0.7306268871104857\n",
            "====================================\n",
            "Precision (Treino): 0.6487845766974015\n",
            "Precision (Teste): 0.7335526315789473\n",
            "====================================\n",
            "Recall (Treino): 0.5308641975308642\n",
            "Recall (Teste): 0.5425790754257908\n",
            "====================================\n",
            "F1-Score (Treino): 0.5839305922293474\n",
            "F1-Score (Teste): 0.6237762237762238\n",
            "====================================\n",
            "ROCAUC (Treino): 0.8427221295547385\n",
            "ROCAUC (Teste): 0.8601571737069934\n"
          ]
        }
      ]
    },
    {
      "cell_type": "markdown",
      "source": [
        "#Utilizando outro modelo"
      ],
      "metadata": {
        "id": "rymDHu9aI_CG"
      }
    },
    {
      "cell_type": "code",
      "source": [
        "from sklearn.ensemble import RandomForestClassifier\n",
        "model_r  = RandomForestClassifier()\n",
        "\n",
        "rf = model_r.fit(x_train, y_train)\n",
        "\n",
        "predict_random = model_r.predict(x_test)"
      ],
      "metadata": {
        "id": "M4KucO6KEEN-"
      },
      "execution_count": null,
      "outputs": []
    },
    {
      "cell_type": "code",
      "source": [
        "#observar atraves da métricas\n",
        "plot_confusion_matrix(rf, x_test, y_test, values_format='d');"
      ],
      "metadata": {
        "colab": {
          "base_uri": "https://localhost:8080/",
          "height": 334
        },
        "id": "R2eK2HqeEoYs",
        "outputId": "127ea07e-e306-4588-8431-a7e3755b359c"
      },
      "execution_count": null,
      "outputs": [
        {
          "output_type": "stream",
          "name": "stderr",
          "text": [
            "/usr/local/lib/python3.8/dist-packages/sklearn/utils/deprecation.py:87: FutureWarning: Function plot_confusion_matrix is deprecated; Function `plot_confusion_matrix` is deprecated in 1.0 and will be removed in 1.2. Use one of the class methods: ConfusionMatrixDisplay.from_predictions or ConfusionMatrixDisplay.from_estimator.\n",
            "  warnings.warn(msg, category=FutureWarning)\n"
          ]
        },
        {
          "output_type": "display_data",
          "data": {
            "text/plain": [
              "<Figure size 432x288 with 2 Axes>"
            ],
            "image/png": "[encoded data removed]"
          },
          "metadata": {
            "needs_background": "light"
          }
        }
      ]
    },
    {
      "cell_type": "code",
      "source": [
        "#ver as métricas\n",
        "#indicio de oferfitting\n",
        "\n",
        "print(f\"Acurácia (Treino): {accuracy_score(y_train, rf.predict(x_train))}\")\n",
        "print(f\"Acurácia (Teste): {accuracy_score(y_test, rf.predict(x_test))}\")\n",
        "print(\"====================================\")\n",
        "print(f\"Acurácia Balanceada (Treino): {balanced_accuracy_score(y_train, rf.predict(x_train))}\")\n",
        "print(f\"Acurácia Balanceada (Teste): {balanced_accuracy_score(y_test, rf.predict(x_test))}\")\n",
        "print(\"====================================\")\n",
        "print(f\"Precision (Treino): {precision_score(y_train, rf.predict(x_train))}\")\n",
        "print(f\"Precision (Teste): {precision_score(y_test, rf.predict(x_test))}\")\n",
        "print(\"====================================\")\n",
        "print(f\"Recall (Treino): {recall_score(y_train, rf.predict(x_train))}\")\n",
        "print(f\"Recall (Teste): {recall_score(y_test, rf.predict(x_test))}\")\n",
        "print(\"====================================\")\n",
        "print(f\"F1-Score (Treino): {f1_score(y_train, rf.predict(x_train))}\")\n",
        "print(f\"F1-Score (Teste): {f1_score(y_test, rf.predict(x_test))}\")\n",
        "print(\"====================================\")\n",
        "print(f\"ROCAUC (Treino): {roc_auc_score(y_train, rf.predict_proba(x_train)[:,1])}\")\n",
        "print(f\"ROCAUC (Teste): {roc_auc_score(y_test, rf.predict_proba(x_test)[:,1])}\")"
      ],
      "metadata": {
        "colab": {
          "base_uri": "https://localhost:8080/"
        },
        "id": "Pz2ATuLWEw_L",
        "outputId": "fbf87a08-fc09-4300-b7b4-a45c61db779a"
      },
      "execution_count": null,
      "outputs": [
        {
          "output_type": "stream",
          "name": "stdout",
          "text": [
            "Acurácia (Treino): 0.9976888888888888\n",
            "Acurácia (Teste): 0.7931769722814499\n",
            "====================================\n",
            "Acurácia Balanceada (Treino): 0.9966565637711946\n",
            "Acurácia Balanceada (Teste): 0.6981466010025503\n",
            "====================================\n",
            "Precision (Treino): 0.9965635738831615\n",
            "Precision (Teste): 0.7255639097744361\n",
            "====================================\n",
            "Recall (Treino): 0.9945130315500685\n",
            "Recall (Teste): 0.46958637469586373\n",
            "====================================\n",
            "F1-Score (Treino): 0.9955372468245794\n",
            "F1-Score (Teste): 0.5701624815361891\n",
            "====================================\n",
            "ROCAUC (Treino): 0.9999487283815648\n",
            "ROCAUC (Teste): 0.829395440643352\n"
          ]
        }
      ]
    },
    {
      "cell_type": "markdown",
      "source": [
        "#Melhorando o modelo\n",
        "-fazendo tuning com os hiperparametros"
      ],
      "metadata": {
        "id": "-Y_qBWV8JDll"
      }
    },
    {
      "cell_type": "code",
      "source": [
        "#melhorar o modelo\n",
        "from sklearn.model_selection import GridSearchCV\n",
        "\n",
        "parameters = {\n",
        "    'max_depth': [1,2,3,4,5,6,7,8,9,10],\n",
        "    'n_estimators' : [100,300, 500]\n",
        "}\n",
        "\n",
        "grid_search = GridSearchCV(rf, parameters, scoring = 'accuracy', cv =5, n_jobs = -1)"
      ],
      "metadata": {
        "id": "awObWL1WFUX3"
      },
      "execution_count": null,
      "outputs": []
    },
    {
      "cell_type": "code",
      "source": [
        "grid_search.fit(x_train, y_train)"
      ],
      "metadata": {
        "colab": {
          "base_uri": "https://localhost:8080/"
        },
        "id": "apnPtx-6F6q9",
        "outputId": "de6bbe03-c601-4c9b-9417-a03ac2a0ced0"
      },
      "execution_count": null,
      "outputs": [
        {
          "output_type": "execute_result",
          "data": {
            "text/plain": [
              "GridSearchCV(cv=5, estimator=RandomForestClassifier(), n_jobs=-1,\n",
              "             param_grid={'max_depth': [1, 2, 3, 4, 5, 6, 7, 8, 9, 10],\n",
              "                         'n_estimators': [100, 300, 500]},\n",
              "             scoring='accuracy')"
            ]
          },
          "metadata": {},
          "execution_count": 86
        }
      ]
    },
    {
      "cell_type": "code",
      "source": [
        "grid_search.best_estimator_.get_params()"
      ],
      "metadata": {
        "colab": {
          "base_uri": "https://localhost:8080/"
        },
        "id": "VeLsibvEGi9M",
        "outputId": "f4efcf8c-2d1e-43fb-ff19-88ae99c84889"
      },
      "execution_count": null,
      "outputs": [
        {
          "output_type": "execute_result",
          "data": {
            "text/plain": [
              "{'bootstrap': True,\n",
              " 'ccp_alpha': 0.0,\n",
              " 'class_weight': None,\n",
              " 'criterion': 'gini',\n",
              " 'max_depth': 8,\n",
              " 'max_features': 'auto',\n",
              " 'max_leaf_nodes': None,\n",
              " 'max_samples': None,\n",
              " 'min_impurity_decrease': 0.0,\n",
              " 'min_samples_leaf': 1,\n",
              " 'min_samples_split': 2,\n",
              " 'min_weight_fraction_leaf': 0.0,\n",
              " 'n_estimators': 100,\n",
              " 'n_jobs': None,\n",
              " 'oob_score': False,\n",
              " 'random_state': None,\n",
              " 'verbose': 0,\n",
              " 'warm_start': False}"
            ]
          },
          "metadata": {},
          "execution_count": 87
        }
      ]
    },
    {
      "cell_type": "code",
      "source": [
        "rf_tunned = RandomForestClassifier(\n",
        "    bootstrap= True,\n",
        " ccp_alpha= 0.0,\n",
        " class_weight= None,\n",
        " criterion= 'gini',\n",
        " max_depth= 8,\n",
        " max_features= 'auto',\n",
        " max_leaf_nodes= None,\n",
        " max_samples= None,\n",
        " min_impurity_decrease= 0.0,\n",
        " min_samples_leaf= 1,\n",
        " min_samples_split= 2,\n",
        " min_weight_fraction_leaf= 0.0,\n",
        " n_estimators= 100,\n",
        " n_jobs= None,\n",
        " oob_score= False,\n",
        " random_state= None,\n",
        " verbose= 0,\n",
        " warm_start= False)"
      ],
      "metadata": {
        "id": "UoQoxQfKG3OZ"
      },
      "execution_count": null,
      "outputs": []
    },
    {
      "cell_type": "markdown",
      "source": [],
      "metadata": {
        "id": "VC6SV6FmHspa"
      }
    },
    {
      "cell_type": "code",
      "source": [
        "rf_tunned.fit(x_train, y_train)\n",
        "predict_tunned = rf_tunned.predict(x_test)"
      ],
      "metadata": {
        "id": "3YpzrwiOG_3a"
      },
      "execution_count": null,
      "outputs": []
    },
    {
      "cell_type": "code",
      "source": [
        "#observar atraves da métricas\n",
        "plot_confusion_matrix(rf_tunned.fit(x_train, y_train), x_test, y_test, values_format='d');"
      ],
      "metadata": {
        "colab": {
          "base_uri": "https://localhost:8080/",
          "height": 334
        },
        "id": "UchFyzRAHkxM",
        "outputId": "42292b27-76b0-43fb-bb80-c5e3e73d9172"
      },
      "execution_count": null,
      "outputs": [
        {
          "output_type": "stream",
          "name": "stderr",
          "text": [
            "/usr/local/lib/python3.8/dist-packages/sklearn/utils/deprecation.py:87: FutureWarning: Function plot_confusion_matrix is deprecated; Function `plot_confusion_matrix` is deprecated in 1.0 and will be removed in 1.2. Use one of the class methods: ConfusionMatrixDisplay.from_predictions or ConfusionMatrixDisplay.from_estimator.\n",
            "  warnings.warn(msg, category=FutureWarning)\n"
          ]
        },
        {
          "output_type": "display_data",
          "data": {
            "text/plain": [
              "<Figure size 432x288 with 2 Axes>"
            ],
            "image/png": "[encoded data removed]"
          },
          "metadata": {
            "needs_background": "light"
          }
        }
      ]
    },
    {
      "cell_type": "code",
      "source": [
        "#ver as métricas\n",
        "#indicio de oferfitting\n",
        "\n",
        "print(f\"Acurácia (Treino): {accuracy_score(y_train, rf_tunned.fit(x_train, y_train).predict(x_train))}\")\n",
        "print(f\"Acurácia (Teste): {accuracy_score(y_test, rf_tunned.fit(x_train, y_train).predict(x_test))}\")\n",
        "print(\"====================================\")\n",
        "print(f\"Acurácia Balanceada (Treino): {balanced_accuracy_score(y_train, rf_tunned.fit(x_train, y_train).predict(x_train))}\")\n",
        "print(f\"Acurácia Balanceada (Teste): {balanced_accuracy_score(y_test, rf_tunned.fit(x_train, y_train).predict(x_test))}\")\n",
        "print(\"====================================\")\n",
        "print(f\"Precision (Treino): {precision_score(y_train, rf_tunned.fit(x_train, y_train).predict(x_train))}\")\n",
        "print(f\"Precision (Teste): {precision_score(y_test, rf_tunned.fit(x_train, y_train).predict(x_test))}\")\n",
        "print(\"====================================\")\n",
        "print(f\"Recall (Treino): {recall_score(y_train, rf_tunned.fit(x_train, y_train).predict(x_train))}\")\n",
        "print(f\"Recall (Teste): {recall_score(y_test, rf_tunned.fit(x_train, y_train).predict(x_test))}\")\n",
        "print(\"====================================\")\n",
        "print(f\"F1-Score (Treino): {f1_score(y_train, rf_tunned.fit(x_train, y_train).predict(x_train))}\")\n",
        "print(f\"F1-Score (Teste): {f1_score(y_test, rf_tunned.fit(x_train, y_train).predict(x_test))}\")\n",
        "print(\"====================================\")\n",
        "print(f\"ROCAUC (Treino): {roc_auc_score(y_train, rf_tunned.fit(x_train, y_train).predict_proba(x_train)[:,1])}\")\n",
        "print(f\"ROCAUC (Teste): {roc_auc_score(y_test, rf_tunned.fit(x_train, y_train).predict_proba(x_test)[:,1])}\")"
      ],
      "metadata": {
        "colab": {
          "base_uri": "https://localhost:8080/"
        },
        "id": "Mu2YA8GiIpDD",
        "outputId": "4a875686-9650-46ed-c769-ae32b56f2726"
      },
      "execution_count": null,
      "outputs": [
        {
          "output_type": "stream",
          "name": "stdout",
          "text": [
            "Acurácia (Treino): 0.8440888888888889\n",
            "Acurácia (Teste): 0.8002842928216063\n",
            "====================================\n",
            "Acurácia Balanceada (Treino): 0.7518272612265093\n",
            "Acurácia Balanceada (Teste): 0.7142511652449213\n",
            "====================================\n",
            "Precision (Treino): 0.7556357078449053\n",
            "Precision (Teste): 0.7416974169741697\n",
            "====================================\n",
            "Recall (Treino): 0.5679012345679012\n",
            "Recall (Teste): 0.49635036496350365\n",
            "====================================\n",
            "F1-Score (Treino): 0.6494117647058824\n",
            "F1-Score (Teste): 0.5985611510791367\n",
            "====================================\n",
            "ROCAUC (Treino): 0.9136499532712281\n",
            "ROCAUC (Teste): 0.8540084913864706\n"
          ]
        }
      ]
    }
  ]
}